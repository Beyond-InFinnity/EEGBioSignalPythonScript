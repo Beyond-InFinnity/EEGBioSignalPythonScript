{
 "cells": [
  {
   "cell_type": "markdown",
   "id": "ffe3cdeb",
   "metadata": {},
   "source": [
    "# Mathematical Notes for Breathing Rate Estimation\n",
    "\n",
    "This notebook provides the mathematical background for the FFT-based pipeline used in \n",
    "`compute_breathing_rate_final.py`.\n",
    "\n",
    "It is intended as a lesson-style explanation: step-by-step derivation of the equations,\n",
    "their purpose, and why they are appropriate for this physiological signal processing task.\n"
   ]
  },
  {
   "cell_type": "markdown",
   "id": "6cfd0614",
   "metadata": {},
   "source": [
    "## Contents\n",
    "\n",
    "1. FFT power spectrum with window normalization  \n",
    "2. Frequency resolution and zero-padding  \n",
    "3. Parabolic peak interpolation  \n",
    "4. Why FFT is effective for BPM estimation  \n"
   ]
  },
  {
   "cell_type": "markdown",
   "id": "0daa5547",
   "metadata": {},
   "source": [
    "## 1. FFT Power Spectrum with Window Normalization\n",
    "\n",
    "Given a uniformly sampled signal \\(x[n]\\), we apply a Hann window \\(w[n]\\) and compute the FFT:\n",
    "\n",
    "\\[\n",
    "X(f) = \\text{FFT}\\{x[n] \\cdot w[n]\\}\n",
    "\\]\n",
    "\n",
    "The power spectrum is then:\n",
    "\n",
    "\\[\n",
    "P(f) = \\frac{|X(f)|^2}{\\sum w[n]^2 \\cdot f_s}\n",
    "\\]\n",
    "\n",
    "This normalization ensures that power estimates are consistent across windows of different\n",
    "lengths and correctly scaled to sampling frequency.\n"
   ]
  },
  {
   "cell_type": "markdown",
   "id": "061027ad",
   "metadata": {},
   "source": [
    "## 2. Frequency Resolution and Zero-Padding\n",
    "\n",
    "For an FFT of length \\(N\\) at sampling rate \\(f_s\\), the frequency resolution is:\n",
    "\n",
    "\\[\n",
    "\\Delta f = \\frac{f_s}{N}\n",
    "\\]\n",
    "\n",
    "- Larger \\(N\\) (longer windows) → finer resolution.  \n",
    "- For short windows, zero-padding increases the number of FFT bins, which refines the grid\n",
    "  on which peak interpolation is performed.  \n",
    "- Zero-padding does *not* create new information, but improves the stability of peak estimation.\n"
   ]
  },
  {
   "cell_type": "markdown",
   "id": "a45f1762",
   "metadata": {},
   "source": [
    "## 3. Parabolic Peak Interpolation\n",
    "\n",
    "Suppose the FFT magnitude spectrum has a maximum at bin \\(k\\), with neighbors\n",
    "\\(y_{-1}, y_0, y_{+1}\\).\n",
    "\n",
    "We can estimate the true peak frequency by fitting a parabola through these three points.\n",
    "\n",
    "The offset of the vertex from the center bin is:\n",
    "\n",
    "\\[\n",
    "\\delta = \\frac{1}{2} \\cdot \\frac{y_{-1} - y_{+1}}{y_{-1} - 2y_0 + y_{+1}}\n",
    "\\]\n",
    "\n",
    "The refined peak frequency is then:\n",
    "\n",
    "\\[\n",
    "f^\\* = f_k + \\delta \\cdot \\Delta f\n",
    "\\]\n",
    "\n",
    "This allows sub-bin frequency resolution, which is essential when analyzing short (15 s) windows.\n"
   ]
  },
  {
   "cell_type": "markdown",
   "id": "1ebc7718",
   "metadata": {},
   "source": [
    "## 4. Why FFT is Effective for BPM Estimation\n",
    "\n",
    "- The IBI-derived signal contains a **periodic oscillation** due to respiration.\n",
    "- In the frequency domain, periodic oscillations appear as **narrowband peaks**.\n",
    "- By restricting analysis to the respiratory band (0.1–0.5 Hz), we ensure only\n",
    "  physiologically plausible peaks are considered.\n",
    "- Converting the dominant peak frequency to breaths per minute is straightforward:\n",
    "\n",
    "\\[\n",
    "\\text{BPM} = 60 \\cdot f^\\*\n",
    "\\]\n"
   ]
  },
  {
   "cell_type": "markdown",
   "id": "673ab972",
   "metadata": {},
   "source": [
    "## References\n",
    "\n",
    "- Harris, F. J. (1978). *On the use of windows for harmonic analysis with the discrete Fourier transform.* Proceedings of the IEEE.  \n",
    "- Welch, P. (1967). *The use of fast Fourier transform for the estimation of power spectra.* IEEE Trans. Audio Electroacoustics.  \n",
    "- Quinn, B. G. (1994). *Estimating frequency by interpolation using Fourier coefficients.* IEEE Trans. Signal Processing.  \n",
    "- Jacobsen, E., & Kootsookos, P. (2007). *Fast, accurate frequency estimators.* IEEE Signal Processing Magazine.  \n",
    "- Task Force of the ESC (1996). *Heart rate variability: Standards of measurement, physiological interpretation and clinical use.* Circulation.\n"
   ]
  },
  {
   "cell_type": "code",
   "execution_count": null,
   "id": "d7d35556",
   "metadata": {},
   "outputs": [],
   "source": []
  }
 ],
 "metadata": {
  "kernelspec": {
   "display_name": "Python 3",
   "language": "python",
   "name": "python3"
  },
  "language_info": {
   "codemirror_mode": {
    "name": "ipython",
    "version": 3
   },
   "file_extension": ".py",
   "mimetype": "text/x-python",
   "name": "python",
   "nbconvert_exporter": "python",
   "pygments_lexer": "ipython3",
   "version": "3.10.11"
  }
 },
 "nbformat": 4,
 "nbformat_minor": 5
}
